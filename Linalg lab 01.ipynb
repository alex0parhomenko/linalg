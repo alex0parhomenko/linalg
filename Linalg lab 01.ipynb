{
 "cells": [
  {
   "cell_type": "markdown",
   "metadata": {},
   "source": [
    "# Лабораторная работа 1"
   ]
  },
  {
   "cell_type": "markdown",
   "metadata": {},
   "source": [
    "Не забываем загрузить библиотеки:"
   ]
  },
  {
   "cell_type": "code",
   "execution_count": 1,
   "metadata": {
    "collapsed": true
   },
   "outputs": [],
   "source": [
    "# Библиотека для работы с матрицами\n",
    "import numpy as np \n",
    "\n",
    "# Алгоритмы линейной алгебры\n",
    "import scipy.linalg as sla\n",
    "\n",
    "# Библиотека для работы с разреженными матрицами\n",
    "import scipy.sparse as sps\n",
    "\n",
    "# Алгоритмы линейной алгебры для разреженных матриц\n",
    "import scipy.sparse.linalg as spla\n",
    "\n",
    "# Графическая библиотека\n",
    "import matplotlib.pyplot as plt\n",
    "\n",
    "# Библиотека для измерения времени\n",
    "import timeit\n",
    "\n",
    "# Позволяет отрисовывать графики и изображения прямо в ноутбуке, а не в отдельном окне. Жизненно важная вещь!\n",
    "%matplotlib inline"
   ]
  },
  {
   "cell_type": "markdown",
   "metadata": {},
   "source": [
    "## Часть 1. Особенности LU-разложения\n",
    "\n",
    "С точки зрения математики матричные разложения являются точными: произведение сомножителей всегда равняется исходной матрицы $A$. К сожалению, на практике этом часто мешает вычислительная погрешность. \n",
    "\n",
    "Для $LU$ разложения l2-норма ошибки ошибки $||\\delta A|| = ||A - LU||$ удовлетворяет следующей оценке:\n",
    "\n",
    "$$||\\delta A|| \\leqslant ||L|| \\cdot ||U|| \\cdot O(\\varepsilon_{machine})$$\n",
    "\n",
    "А нормы $L$ и $U$ могут быть совсем нехорошими."
   ]
  },
  {
   "cell_type": "markdown",
   "metadata": {},
   "source": [
    "**Задание 1.1 (1 балл)** Рассмотрим следующее LU-разложение:\n",
    "\n",
    "$$\\begin{pmatrix}\n",
    "10^{-20} & 1\\\\\n",
    "1 & 1\n",
    "\\end{pmatrix} = \\begin{pmatrix}\n",
    "1 & 0\\\\\n",
    "10^{20} & 1\n",
    "\\end{pmatrix}\\cdot\\begin{pmatrix}\n",
    "10^{-20} & 1\\\\\n",
    "0 & 1 - 10^{20}\n",
    "\\end{pmatrix}$$\n",
    "\n",
    "Перемножьте полученные матрицы $L$ и $U$. А теперь перемножьте такие же матрицы, только после всех единиц поставьте десятичные точки. Изменился ли ответ? Как вам кажется, почему?"
   ]
  },
  {
   "cell_type": "code",
   "execution_count": 2,
   "metadata": {
    "collapsed": false
   },
   "outputs": [
    {
     "name": "stdout",
     "output_type": "stream",
     "text": [
      "[[1e-20 1L]\n",
      " [1.0 1L]]\n"
     ]
    }
   ],
   "source": [
    "a = np.array([[1, 0], [10 **20, 1]])\n",
    "b = np.array([[10 ** (-20), 1], [0, 1 - 10 ** 20]])\n",
    "c = np.dot(a, b)\n",
    "print c"
   ]
  },
  {
   "cell_type": "code",
   "execution_count": 3,
   "metadata": {
    "collapsed": false
   },
   "outputs": [
    {
     "name": "stdout",
     "output_type": "stream",
     "text": [
      "[[1e-20 1.0]\n",
      " [1.0 0.0]]\n"
     ]
    }
   ],
   "source": [
    "a = np.array([[1., 0], [10 **20, 1.]])\n",
    "b = np.array([[10 ** (-20), 1.], [0, 1. - (10 ** 20)]])\n",
    "c = np.dot(a, b)\n",
    "print c"
   ]
  },
  {
   "cell_type": "markdown",
   "metadata": {},
   "source": [
    "Отметим, что в реальных вычислениях матричные элементы почти наверняка с самого начала будут числами с плавающей точкой (а не целыми).\n",
    "\n",
    "Теперь проверьте, что будет, если вычислить QR-разложение исходной матрицы и перемножить матрицы $Q$ и $R$."
   ]
  },
  {
   "cell_type": "code",
   "execution_count": 4,
   "metadata": {
    "collapsed": false
   },
   "outputs": [
    {
     "data": {
      "text/plain": [
       "array([[ 0.,  1.],\n",
       "       [ 1.,  1.]])"
      ]
     },
     "execution_count": 4,
     "metadata": {},
     "output_type": "execute_result"
    }
   ],
   "source": [
    "A = np.array([[10 ** (-20), 1.],[1., 1.]])\n",
    "a, b = sla.qr(A)\n",
    "Anew = np.dot(a, b)\n",
    "Anew"
   ]
  },
  {
   "cell_type": "markdown",
   "metadata": {},
   "source": [
    "**Выход: LU-разложение с выбором главного элемента (по столбцу)**\n",
    "\n",
    "Каждый раз ищем максимум в столбце и переставляем соответствующую строку наверх.\n",
    "\n",
    "$$\\begin{pmatrix}\n",
    "b_{11} & \\dots & b_{1i} & b_{1,i+1} & \\dots & b_{1n}\\\\\n",
    " & \\ddots & \\vdots & \\vdots & & \\vdots\\\\\n",
    " & & \\color{blue}{b_{ii}} & \\color{blue}{b_{i,i+1}} & \\dots & \\color{blue}{b_{in}} \\\\\n",
    " & & b_{i+1,i} & b_{i+1,i+1} & \\dots & b_{i+1,n}\\\\\n",
    " & & \\vdots & \\vdots &  & \\vdots \\\\\n",
    " & & \\color{green}{b_{ji}} & \\color{green}{b_{j,i+1}} & \\dots & \\color{green}{b_{jn}} \\\\\n",
    " & & \\vdots & \\vdots & & \\vdots\\\\\n",
    "\\end{pmatrix}\\longrightarrow\n",
    "\\begin{pmatrix}\n",
    "b_{11} & \\dots & b_{1i} & b_{1,i+1} & \\dots & b_{1n}\\\\\n",
    " & \\ddots & \\vdots & \\vdots & & \\vdots\\\\\n",
    " & & \\color{green}{b_{ji}} & \\color{green}{b_{j,i+1}} & \\dots & \\color{green}{b_{jn}} \\\\\n",
    " & & b_{i+1,i} & b_{i+1,i+1} & \\dots & b_{i+1,n}\\\\\n",
    " & & \\vdots & \\vdots &  & \\vdots \\\\\n",
    " & & \\color{blue}{b_{ii}} & \\color{blue}{b_{i,i+1}} & \\dots & \\color{blue}{b_{in}} \\\\\n",
    " & & \\vdots & \\vdots & & \\vdots\\\\\n",
    "\\end{pmatrix}\\longrightarrow$$\n",
    "$$\\longrightarrow\\begin{pmatrix}\n",
    "b_{11} & \\dots & b_{1i} & b_{1,i+1} & \\dots & b_{1n}\\\\\n",
    " & \\ddots & \\vdots & \\vdots & & \\vdots\\\\\n",
    " & & \\color{green}{b_{ji}} & \\color{green}{b_{j,i+1}} & \\dots & \\color{green}{b_{jn}} \\\\\n",
    " & & 0 & b'_{i+1,i+1} & \\dots & b'_{i+1,n}\\\\\n",
    " & & \\vdots & \\vdots &  & \\vdots \\\\\n",
    " & & 0 & b'_{i,i+1} & \\dots & b'_{in} \\\\\n",
    " & & \\vdots & \\vdots & & \\vdots\n",
    "\\end{pmatrix}$$\n",
    "\n",
    "Надо сказать, что примерно так вы все и решали системы на первом курсе университета! Именно наибольший, а не первый ненулевой элемент столбца берётся потому, что чем больше число - тем меньшие погрешности потенциально вносит деление на него."
   ]
  },
  {
   "cell_type": "markdown",
   "metadata": {},
   "source": [
    "Что при этом происходит? Перестановка строк матрицы равносильна умножению её слева на матрицу соответствующей перестановки. Таким образом, мы получаем равенство\n",
    "\n",
    "$$L_nP_nL_{n-1}P_{n-1}\\ldots L_2P_2L_1P_1 A = U\\qquad\\qquad(1)$$\n",
    "\n",
    "где $L_1,\\ldots,L_n$ - некоторые нижнетреугольные матрицы.\n",
    "\n",
    "**Вопрос:** Ну, и где здесь матрица $L$?!\n",
    "\n",
    "**Ответ:** Введём новые матрицы\n",
    "\n",
    "\\begin{align*}\n",
    "L'_n &= L_n\\\\\n",
    "L'_{n-1} &= P_nL_nP_{n-1}\\\\\n",
    "L'_{n-2} &= P_nP_{n-1}L_{n-1}P_n^{-1}P_{n-1}^{-1}\\\\\n",
    "&\\ldots\\\\\n",
    "L'_1 &= P_nP_{n-1}\\ldots P_2L_1P_2^{-1}\\ldots P_{n-1}^{-1}P_n^{-1}\n",
    "\\end{align*}\n",
    "\n",
    "**Упражнение.** Матрицы $L'_i$ тоже нижнетреугольные!\n",
    "\n",
    "Тогда левая часть (1) перепишется в виде\n",
    "\n",
    "$$\\underbrace{L'_nL'_{n-1}\\ldots L'_1}_{:=L^{-1}}\\underbrace{P_nP_{n-1}\\ldots P_1}_{:=P^{-1}}\\cdot A$$"
   ]
  },
  {
   "cell_type": "markdown",
   "metadata": {},
   "source": [
    "**Итог:** разложение вида\n",
    "$$A = PLU$$\n",
    "где $P$ - матрица перестановки.\n",
    "\n",
    "Функция `scipy.linalg.lu` в Питоне находит именно такое разложение!\n",
    "\n",
    "Все элементы $L$ не превосходят $1$, так что $||L||]\\leqslant 1$. При этом\n",
    "$$||\\Delta A|| \\leqslant ||A||\\cdot O(\\rho \\varepsilon_{machine}),$$\n",
    "где\n",
    "$$\\rho = \\frac{\\max_{i,j}|u_{ij}|}{\\max_{i,j}|a_{ij}|}$$\n",
    "\n",
    "Но что, если это отношение велико?"
   ]
  },
  {
   "cell_type": "markdown",
   "metadata": {},
   "source": [
    "# **Задание 1.2 (1 балл)** Сгенерируйте матрицу $500\\times500$, имеющую вид\n",
    "\n",
    "$$\\begin{pmatrix}\n",
    "1 & 0 & 0 & \\cdots & 0 & 0 & 1\\\\\n",
    "-1 & 1 & 0 &  &  & 0 & 1\\\\\n",
    "-1 & -1 & 1 & 0  &  & 0 & 1\\\\\n",
    "\\vdots & & \\ddots & \\ddots  & \\ddots & \\vdots & \\vdots \\\\\n",
    "-1 & -1 & -1 & \\ddots & 1 & 0 & 1\\\\\n",
    "-1 & -1 & -1 &  & -1 & 1 & 1\\\\\n",
    "-1 & -1 & -1 & \\cdots & -1 & -1 & 1\n",
    "\\end{pmatrix}$$\n",
    "\n",
    "Например, сгенерировать сначала нулевую матрицу нужного размера, а потом заполнить её клетки правильными числами.\n",
    "\n",
    "Найдите её PLU-разложение и QR-разложение. Убедитесь, что $P = E$. Вычислите $||A - LU||_2$ и $||A - QR||_2$. Чему равен фактор роста матрицы $A$?"
   ]
  },
  {
   "cell_type": "code",
   "execution_count": 5,
   "metadata": {
    "collapsed": true
   },
   "outputs": [],
   "source": [
    "def pivot_matrix(m):\n",
    "    n = len(m)    \n",
    "    ind = [[float(i == j) for i in xrange(n)] for j in xrange(n)]\n",
    "    ind = np.asarray(ind, dtype = np.float)\n",
    "    return ind\n",
    "    for j in xrange(n):\n",
    "        row_ind = np.argmax(np.abs(m[j:, j])) + j     \n",
    "        if row_ind != j:\n",
    "            ind[j], ind[row_ind] = ind[row_ind], ind[j]\n",
    "    return ind\n",
    "\n",
    "def lu_decomposition(a):\n",
    "    n = a.shape[0]\n",
    "    L = np.zeros(a.shape)\n",
    "    U = np.zeros(a.shape)\n",
    "\n",
    "    P = pivot_matrix(a)\n",
    "    PA = np.dot(P, a)\n",
    "    #print PA\n",
    "    for j in xrange(n):\n",
    "        L[j][j] = 1.0\n",
    "        for i in xrange(j+1):\n",
    "            s1 = np.sum((U[:, j] * L[i, :])[:i])\n",
    "            #print s1\n",
    "            U[i][j] = PA[i][j] - s1\n",
    "\n",
    "        for i in xrange(j, n):\n",
    "            s2 = np.sum((U[:,j] * L[i, :])[:j])\n",
    "            #print s2\n",
    "            L[i][j] = (PA[i][j] - s2) / U[j][j]\n",
    "        #print L, U\n",
    "\n",
    "\n",
    "    return (P, L, U)"
   ]
  },
  {
   "cell_type": "code",
   "execution_count": 6,
   "metadata": {
    "collapsed": false
   },
   "outputs": [],
   "source": [
    "def getQRDecomposition(a):\n",
    "    u = []\n",
    "    u.append(a[0, :].copy())\n",
    "    #print a\n",
    "    for i in range(1, len(a)):\n",
    "        bi = a[i , :].copy()\n",
    "        for j in range(len(u)):\n",
    "            bi -= (np.sum(a[i, :] * u[j])) / (np.sum(u[j] ** 2)) * u[j]\n",
    "        #bi /= np.sqrt(np.sum(bi * bi))\n",
    "        u.append(bi)\n",
    "    #print a\n",
    "    for i in range(len(u)):\n",
    "        u[i] /= np.sqrt(np.sum(u[i] ** 2))\n",
    "    Q = np.asarray(u, dtype = np.float)\n",
    "    #print a\n",
    "    R = np.dot(Q.T, a)\n",
    "    return Q, R"
   ]
  },
  {
   "cell_type": "code",
   "execution_count": 7,
   "metadata": {
    "collapsed": false
   },
   "outputs": [
    {
     "name": "stdout",
     "output_type": "stream",
     "text": [
      "Delta LU decomposition:  2.53295195207e+76\n",
      "Delta QR, decomposition:  1.55336004413e-12\n"
     ]
    }
   ],
   "source": [
    "a = np.zeros((500, 500))\n",
    "for i in range(500):\n",
    "    for j in range(500):\n",
    "        if i == j:\n",
    "            a[i][j] = 1\n",
    "        elif j == 499:\n",
    "            a[i][j] = 1\n",
    "        elif i > j:\n",
    "            a[i][j] = -1\n",
    "P, L, U = sla.lu(a)\n",
    "L = np.dot(P, L)\n",
    "for i in range(len(P)):\n",
    "    for j in range(len(P)):\n",
    "        if i == j:\n",
    "            assert P[i][j] == 1.\n",
    "        else:\n",
    "            assert P[i][j] == 0\n",
    "#print a\n",
    "Q, R = sla.qr(a)\n",
    "deltaLU = np.sqrt(np.sum((a - np.dot(L, U)) ** 2))\n",
    "deltaQR = np.sqrt(np.sum((a - np.dot(Q, R)) ** 2))\n",
    "print 'Delta LU decomposition: ', deltaLU\n",
    "print 'Delta QR, decomposition: ', deltaQR"
   ]
  },
  {
   "cell_type": "markdown",
   "metadata": {},
   "source": [
    "К счастью, на практике так редко бывает (чёрт его знает почему). Тем не менее, QR-разложение всё-таки лучше. Теоретическая оценка для ошибки QR-разложения имеет вид\n",
    "\n",
    "$$||A - QR||_2 \\leqslant ||A||_2\\cdot O(\\varepsilon_{machine})$$"
   ]
  },
  {
   "cell_type": "markdown",
   "metadata": {},
   "source": [
    "**Задание 1.3 (1 балл)** Рассмотрим *матрицу Паскаля* $S_n = \\left(C_{i + j}^i\\right)$ ($i,j = 0,\\ldots,n-1$).\n",
    "\n",
    "Каково её LU-разложение? Выведите формулы для матриц L и U и приведите краткое обоснование прямо в ноутбуке. Не пользуйтесь функцией `scipy.linalg.lu`, чтобы его \"угадать\": матрица P будет отлична от единичной, и вы получите не то, что хотели.\n",
    "\n",
    "Каков её определитель?"
   ]
  },
  {
   "cell_type": "raw",
   "metadata": {
    "collapsed": true
   },
   "source": [
    "U[i][j] = A[i][j + i] если i > j U[i][j] = 0  \n",
    "L[i][j] = A[i - j][j] если i < j L[i][j] = 0\n"
   ]
  },
  {
   "cell_type": "markdown",
   "metadata": {},
   "source": [
    "Напишите функцию `my_pascal(n)`, генерирующую матрицу Паскаля размера $n\\times n$.\n",
    "\n",
    "Найдите норму разности $||A - PLU||_2$. Не такая уж и большая, правда?"
   ]
  },
  {
   "cell_type": "code",
   "execution_count": 11,
   "metadata": {
    "collapsed": false
   },
   "outputs": [
    {
     "name": "stdout",
     "output_type": "stream",
     "text": [
      "2.31466102561\n"
     ]
    }
   ],
   "source": [
    "###\n",
    "# Your function here\n",
    "def my_pascal(size):\n",
    "    a = np.zeros((size, size))\n",
    "    a[0, :] = np.ones(size)\n",
    "    a[:, 0] = np.ones(size)\n",
    "    for i in xrange(1, size):\n",
    "        for j in xrange(1, size):\n",
    "            a[i][j] = a[i - 1][j] + a[i][j - 1]\n",
    "    return a\n",
    "    \n",
    "###\n",
    "\n",
    "A = my_pascal(30)\n",
    "p, l, u = sla.lu(A)\n",
    "#print A\n",
    "#print np.dot(L, U)\n",
    "#print U[4]\n",
    "#print np.diag(A, )\n",
    "p, l, u = sla.lu(A)\n",
    "print np.sqrt(np.sum((A - np.dot(np.dot(p, l), u)) ** 2))\n",
    "#print A"
   ]
  },
  {
   "cell_type": "markdown",
   "metadata": {},
   "source": [
    "Теперь попросим компьютер вычислить определитель матрицы Паскаля $30\\times30$ и решить простенькую систему уравнений:"
   ]
  },
  {
   "cell_type": "code",
   "execution_count": 12,
   "metadata": {
    "collapsed": false
   },
   "outputs": [
    {
     "name": "stdout",
     "output_type": "stream",
     "text": [
      "-3.01736842766e+49\n",
      "492533426.521\n"
     ]
    }
   ],
   "source": [
    "print(sla.det(A))\n",
    "\n",
    "# Try to solve a linear system\n",
    "x = np.ones(30)\n",
    "b = A.dot(x)\n",
    "x1 = sla.solve(A, b)\n",
    "print(sla.norm(x1 - x))"
   ]
  },
  {
   "cell_type": "markdown",
   "metadata": {},
   "source": [
    "Так себе ошибка. Теперь попробуем сделать это с помощью QR-разложения. Станет ли лучше?"
   ]
  },
  {
   "cell_type": "code",
   "execution_count": 13,
   "metadata": {
    "collapsed": false
   },
   "outputs": [
    {
     "name": "stdout",
     "output_type": "stream",
     "text": [
      "965320173.567\n"
     ]
    }
   ],
   "source": [
    "Q, R = sla.qr(A)\n",
    "x2 = sla.solve_triangular(R, Q.T.dot(b))\n",
    "print sla.norm(x2 - x)"
   ]
  },
  {
   "cell_type": "markdown",
   "metadata": {},
   "source": [
    "Объясните полученные неприятные результаты."
   ]
  },
  {
   "cell_type": "markdown",
   "metadata": {
    "collapsed": true
   },
   "source": [
    "----\n",
    "*Ваш ответ*"
   ]
  },
  {
   "cell_type": "markdown",
   "metadata": {},
   "source": [
    "## Часть 2. Решение СЛАУ с положительно определённой матрицей"
   ]
  },
  {
   "cell_type": "markdown",
   "metadata": {},
   "source": [
    "**Задание 2.1. Какие же методы использовать? (3 балла)**"
   ]
  },
  {
   "cell_type": "markdown",
   "metadata": {},
   "source": [
    "Реализуйте несколько алгоритмов решения СЛАУ $Ax = b$, где $A = A^T$, $A \\geqslant 0$ с матричной правой частью $b$.\n",
    "\n",
    "1. **Наивный способ**: $x = A^{-1}b$;\n",
    "\n",
    "2. **Стандартный способ**: с помощью процедуры `solve` модуля `scipy.linalg`;\n",
    "\n",
    "3. **Разложение Холецкого**: с помощью разложения Холецкого для матрицы $A$ и последующего решения двух СЛАУ с треугольными матрицами;\n",
    "\n",
    "4. **Разложение Холецкого с процедурами scipy**: с помощью разложения Холецкого для матрицы $A$ и специальных процедур из пакета `scipy.linalg` (`cho_factor`, `cho_solve`).\n",
    "\n",
    "Для решения СЛАУ с треугольной матрицей можно воспользоваться функцией `solve_triangular` из пакета `scipy.linalg`."
   ]
  },
  {
   "cell_type": "code",
   "execution_count": 72,
   "metadata": {
    "collapsed": false
   },
   "outputs": [],
   "source": [
    "def naive_solve(A, b):\n",
    "    return np.dot(sla.inv(A), b)\n",
    "\n",
    "def standart_solve(A, b):\n",
    "    return sla.solve(A, b)\n",
    "\n",
    "def cholesky_simple(A, b):\n",
    "    lower = sla.cho_factor(A, lower = True)[0]\n",
    "    y = sla.solve_triangular(lower, b, lower = True)\n",
    "    x = sla.solve_triangular(lower.T, y, lower = False)\n",
    "    return x\n",
    "    \n",
    "def cholesky_scipy(A, b):\n",
    "    lower = sla.cho_factor(A)\n",
    "    #lower = np.asarray(lower)\n",
    "    return sla.cho_solve(lower, b)\n"
   ]
  },
  {
   "cell_type": "markdown",
   "metadata": {},
   "source": [
    "Проведите тестирование реализованных алгоритмов на небольшой СЛАУ на предмет совпадения ответов"
   ]
  },
  {
   "cell_type": "code",
   "execution_count": 189,
   "metadata": {
    "collapsed": false
   },
   "outputs": [],
   "source": [
    "def gen_matrix(sz):\n",
    "    a = np.abs(np.random.randn(sz, sz))\n",
    "    #for i in range(sz):\n",
    "    #    for j in range(i + 1, sz):\n",
    "    #        a[i][j] = 0\n",
    "    #print a\n",
    "    return np.dot(a, a.T)\n",
    "sz = 20\n",
    "A = gen_matrix(sz)\n",
    "b = np.abs(np.random.randn(sz))"
   ]
  },
  {
   "cell_type": "code",
   "execution_count": 190,
   "metadata": {
    "collapsed": false
   },
   "outputs": [
    {
     "name": "stdout",
     "output_type": "stream",
     "text": [
      "3.76913154514e-14\n",
      "3.79357783421e-12\n",
      "1.12792039507e-11\n"
     ]
    }
   ],
   "source": [
    "x1 = naive_solve(A, b)\n",
    "x2 = standart_solve(A, b)\n",
    "x3 = cholesky_simple(A, b)\n",
    "x4 = cholesky_scipy(A, b)\n",
    "print sla.norm(x1 - x2)\n",
    "print sla.norm(x1 - x3)\n",
    "print sla.norm(x1 - x4)"
   ]
  },
  {
   "cell_type": "markdown",
   "metadata": {},
   "source": [
    "Проведите эксперименты и выясните, как меняется время работы этих методов\n",
    "\n",
    "- с ростом размера матрицы $A$ при фиксированном числе правых частей. Рассмотрите системы с 10, 100, 1000 правых частей;\n",
    "\n",
    "- с ростом числа правых частей при фиксированном размере матрицы $A$ (например, $100\\times100$).\n",
    "\n",
    "Обязательно нарисуйте графики (время работы от размера). Какой метод оказывается более быстрым?\n",
    "\n",
    "Для тестирования вам пригодятся случайные матрицы, сгенерированные с помощью функции `numpy.random.randn`. Но не забудьте, что в задаче речь идёт о *симметрических положительно определённых матрицах*. Так что подумайте, как из случайных матриц сделать симметрические положительно определённые.\n",
    "\n",
    "Матрицы левых частей должны быть не менее $100\\times100$: при меньших размерностях заметную роль могут играть факторы, не имеющие отношения к алгебре. Мы рекомендуем рассматривать системы с матрицами размера от 100 до 1000 и с числом правых частей от 10 до 10000. Приготовьтесь к тому, что эксперименты могут занять какое-то время."
   ]
  },
  {
   "cell_type": "markdown",
   "metadata": {
    "collapsed": true
   },
   "source": [
    "## график зависимости времени от роста размера матрицы А при фиксированном числе правых частей"
   ]
  },
  {
   "cell_type": "code",
   "execution_count": 191,
   "metadata": {
    "collapsed": true
   },
   "outputs": [],
   "source": [
    "from timeit import timeit"
   ]
  },
  {
   "cell_type": "code",
   "execution_count": 192,
   "metadata": {
    "collapsed": false
   },
   "outputs": [
    {
     "data": {
      "image/png": "[encoded data removed]",
      "text/plain": [
       "<matplotlib.figure.Figure at 0x7f5dd3bd9cd0>"
      ]
     },
     "metadata": {},
     "output_type": "display_data"
    }
   ],
   "source": [
    "time_naive_solve = []\n",
    "time_standart_solve = []\n",
    "time_cholesky_simple = []\n",
    "time_cholesky_scipy = []\n",
    "x = np.arange(100, 1000, 100)\n",
    "for sz in range(100, 1000, 100):\n",
    "    A = gen_matrix(sz)\n",
    "    b = []\n",
    "    for j in range(10):\n",
    "        b.append(np.abs(np.random.randn(sz)))\n",
    "    \n",
    "    time_naive_solve.append(timeit('[naive_solve(A, b[j]) for j in range(10)]', number = 1, setup = 'from __main__ import naive_solve, A, b'))\n",
    "    time_standart_solve.append(timeit('[standart_solve(A, b[j]) for j in range(10)]', number = 1, setup = 'from __main__ import standart_solve, A, b'))\n",
    "    time_cholesky_simple.append(timeit('[cholesky_simple(A, b[j]) for j in range(10)]', number = 1, setup = 'from __main__ import cholesky_simple, A, b'))\n",
    "    time_cholesky_scipy.append(timeit('[cholesky_scipy(A, b[j]) for j in range(10)]', number = 1, setup = 'from __main__ import cholesky_scipy, A, b'))\n",
    "\n",
    "plt.figure(figsize = (8, 6), dpi = 80)\n",
    "line1, = plt.plot(x, time_naive_solve, c ='g')\n",
    "line2, = plt.plot(x, time_standart_solve, c = 'r')\n",
    "line3, = plt.plot(x, time_cholesky_simple, c = 'b')\n",
    "line4, = plt.plot(x, time_cholesky_scipy, c = 'y')\n",
    "plt.xlabel('matrix size')\n",
    "plt.ylabel('time for 10 b parts')\n",
    "plt.legend([line1, line2, line3, line4], ['naive_solve', 'standart_solve', 'cholesky_simple', 'cholesky_scipy'])\n",
    "plt.show()"
   ]
  },
  {
   "cell_type": "code",
   "execution_count": 193,
   "metadata": {
    "collapsed": false
   },
   "outputs": [
    {
     "data": {
      "image/png": "[encoded data removed]",
      "text/plain": [
       "<matplotlib.figure.Figure at 0x7f5dd18a5c90>"
      ]
     },
     "metadata": {},
     "output_type": "display_data"
    }
   ],
   "source": [
    "time_naive_solve = []\n",
    "time_standart_solve = []\n",
    "time_cholesky_simple = []\n",
    "time_cholesky_scipy = []\n",
    "x = np.arange(100, 1000, 100)\n",
    "for sz in range(100, 1000, 100):\n",
    "    A = gen_matrix(sz)\n",
    "    b = []\n",
    "    for j in range(100):\n",
    "        b.append(np.abs(np.random.randn(sz)))\n",
    "    \n",
    "    time_naive_solve.append(timeit('[naive_solve(A, b[j]) for j in range(100)]', number = 1, setup = 'from __main__ import naive_solve, A, b'))\n",
    "    time_standart_solve.append(timeit('[standart_solve(A, b[j]) for j in range(100)]', number = 1, setup = 'from __main__ import standart_solve, A, b'))\n",
    "    time_cholesky_simple.append(timeit('[cholesky_simple(A, b[j]) for j in range(100)]', number = 1, setup = 'from __main__ import cholesky_simple, A, b'))\n",
    "    time_cholesky_scipy.append(timeit('[cholesky_scipy(A, b[j]) for j in range(100)]', number = 1, setup = 'from __main__ import cholesky_scipy, A, b'))\n",
    "\n",
    "plt.figure(figsize = (8, 6), dpi = 80)\n",
    "line1, = plt.plot(x, time_naive_solve, c ='g')\n",
    "line2, = plt.plot(x, time_standart_solve, c = 'r')\n",
    "line3, = plt.plot(x, time_cholesky_simple, c = 'b')\n",
    "line4, = plt.plot(x, time_cholesky_scipy, c = 'y')\n",
    "plt.xlabel('matrix size')\n",
    "plt.ylabel('time for 100 b parts')\n",
    "plt.legend([line1, line2, line3, line4], ['naive_solve', 'standart_solve', 'cholesky_simple', 'cholesky_scipy'])\n",
    "plt.show()"
   ]
  },
  {
   "cell_type": "code",
   "execution_count": null,
   "metadata": {
    "collapsed": true
   },
   "outputs": [],
   "source": [
    "time_naive_solve = []\n",
    "time_standart_solve = []\n",
    "time_cholesky_simple = []\n",
    "time_cholesky_scipy = []\n",
    "x = np.arange(100, 1000, 100)\n",
    "for sz in range(100, 1000, 100):\n",
    "    A = gen_matrix(sz)\n",
    "    b = []\n",
    "    for j in range(1000):\n",
    "        b.append(np.abs(np.random.randn(sz)))\n",
    "    \n",
    "    time_naive_solve.append(timeit('[naive_solve(A, b[j]) for j in range(1000)]', number = 1, setup = 'from __main__ import naive_solve, A, b'))\n",
    "    time_standart_solve.append(timeit('[standart_solve(A, b[j]) for j in range(1000)]', number = 1, setup = 'from __main__ import standart_solve, A, b'))\n",
    "    time_cholesky_simple.append(timeit('[cholesky_simple(A, b[j]) for j in range(1000)]', number = 1, setup = 'from __main__ import cholesky_simple, A, b'))\n",
    "    time_cholesky_scipy.append(timeit('[cholesky_scipy(A, b[j]) for j in range(1000)]', number = 1, setup = 'from __main__ import cholesky_scipy, A, b'))\n",
    "\n",
    "plt.figure(figsize = (8, 6), dpi = 80)\n",
    "line1, = plt.plot(x, time_naive_solve, c ='g')\n",
    "line2, = plt.plot(x, time_standart_solve, c = 'r')\n",
    "line3, = plt.plot(x, time_cholesky_simple, c = 'b')\n",
    "line4, = plt.plot(x, time_cholesky_scipy, c = 'y')\n",
    "plt.xlabel('matrix size')\n",
    "plt.ylabel('time for 1000 b parts')\n",
    "plt.legend([line1, line2, line3, line4], ['naive_solve', 'standart_solve', 'cholesky_simple', 'cholesky_scipy'])\n",
    "plt.show()"
   ]
  },
  {
   "cell_type": "markdown",
   "metadata": {},
   "source": [
    "**Задание 2.2. Пример: вычисление логарифма плотности многомерного нормального распределения (3 балла)**"
   ]
  },
  {
   "cell_type": "markdown",
   "metadata": {},
   "source": [
    "Случайная величина $\\vec{x}\\in\\mathbb{R}^D$ имеет многомерное нормальное распределение, если её плотность может быть представлена как\n",
    "$$\n",
    "p(\\vec{x}) = \\mathcal{N}(\\vec{x}|\\vec{\\mu},\\Sigma) = \\frac{1}{\\sqrt{2\\pi}^D\\sqrt{\\det\\Sigma}}\\exp\\left(-\\frac{1}{2}(\\vec{x}-\\vec{\\mu})^T\\Sigma^{-1}(\\vec{x}-\\vec{\\mu})\\right)\n",
    "$$\n",
    "Здесь $\\vec{\\mu}\\in\\mathbb{R}^D -$ вектор мат. ожидания $\\vec{x}$, а $\\Sigma\\in\\mathbb{R}^{D{\\times}D} -$ матрица ковариации.\n",
    "\n",
    "С помощью матричных разложений реализуйте алгоритм вычисления логарифма нормальной плотности для набора векторов $X = \\{\\vec{x}_1,\\dots,\\vec{x}_N\\}$ для заданных $\\vec{\\mu}$ и $\\Sigma$."
   ]
  },
  {
   "cell_type": "code",
   "execution_count": null,
   "metadata": {
    "collapsed": true
   },
   "outputs": [],
   "source": [
    "#Заготовка:\n",
    "def my_multivariate_normal_logpdf(X, m, S):\n",
    "    '''\n",
    "    Ввод\n",
    "    -----\n",
    "    X: набор точек, numpy array размера N x D;\n",
    "    m: вектор средних значений, numpy array длины D;\n",
    "    S: ковариационная матрицы, numpy array размера D x D.\n",
    "    \n",
    "    Вывод\n",
    "    ------\n",
    "    res: результат вычислений, numpy array длины N.\n",
    "    '''"
   ]
  },
  {
   "cell_type": "markdown",
   "metadata": {},
   "source": [
    "Сгенерируйте выборку из нормального распределения со случайными параметрами для небольшого $D$ с помощью функции `scipy.stats.multivariate_normal.rvs` и сравните на этой выборке результат работы вашего алгоритма с результатом стандартной функции `scipy.stats.multivariate_normal.logpdf`"
   ]
  },
  {
   "cell_type": "code",
   "execution_count": null,
   "metadata": {
    "collapsed": true
   },
   "outputs": [],
   "source": []
  },
  {
   "cell_type": "markdown",
   "metadata": {},
   "source": [
    "Замерьте время работы вашего алгоритма и функции `scipy.stats.multivariate_normal.logpdf` для различных значений $D$. Постарайтесь добиться, чтобы ваш алгоритм выигрывал по скорости у стандартной функции."
   ]
  },
  {
   "cell_type": "code",
   "execution_count": null,
   "metadata": {
    "collapsed": true
   },
   "outputs": [],
   "source": []
  },
  {
   "cell_type": "markdown",
   "metadata": {},
   "source": [
    "В задаче будут оцениваться:\n",
    "- удалось ли вам обогнать библиотечную функцию;\n",
    "- использованы ли вы матричные разложения (или просто обратили матрицу:))\n",
    "- наличие дополнительных оптимизаций"
   ]
  },
  {
   "cell_type": "markdown",
   "metadata": {},
   "source": [
    "## Часть 3. Разреженные матрицы"
   ]
  },
  {
   "cell_type": "markdown",
   "metadata": {},
   "source": [
    "Матрица называется разреженной, если в ней мало ненулевых элементов.\n",
    "\n",
    "Например, если в матрице $n\\times n$ порядка $O(n)$ ненулевых элементов, она является разреженной.\n",
    "\n",
    "Зачастую размерность разреженных матриц, возникающих в реальных задачах, так велика, что хранить её в памяти вместе с нулями - непозволительная роскошь. Есть несколько экономичных методов хранения:\n",
    "\n",
    "- `Dictionary of Keys` (`DOK`) - словарь `(i,j):element`. \n",
    "\n",
    "    $\\color{green}{\\oplus}$ быстрое добавление элементов с произвольными индексами,\n",
    "  \n",
    "    $\\color{red}{\\ominus}$ любые другие операции будут производиться медленно.\n",
    "\n",
    "\n",
    "- `List of Lists` (`LIL`) - матрица хранится построчно: в виде двух массивов `[l_1,...,l_s]` и `[v_1,...v_s]`, где `l_i` - список номеров столбцов, в которых в i-й строке находится ненулевой элемент, а `v_i` - список соответствующих значений. В целом, подходит для создания в высокой степени разреженной матрицы. Когда все элементы добавлены, лучше перевести в формат `CSR` или `CSC`.\n",
    "\n",
    "    $\\color{green}{\\oplus}$ добавление за линейное время, \n",
    "    \n",
    "    $\\color{green}{\\oplus}$ быстрый доступ к строкам матрицы, \n",
    "    \n",
    "    $\\color{red}{\\ominus}$ может требовать слишком много памяти (для создания матриц повышенной плотности используйте `COO`).\n",
    "\n",
    "    \n",
    "- `Coordinate List` (`COO`) - хранятся тройки `(row, column, value)`  или три массива \\texttt{rows,\\ columns,\\ values}. При этом тройка с одинаковым началом `(row, column)` может быть не одна; при преобразовании к другому типу значения `value` суммируются.\n",
    "\n",
    "    $\\color{green}{\\oplus}$ быстрое добавление новых элементов,\n",
    "    \n",
    "    $\\color{red}{\\ominus}$ для всего остального лучше перевести в другой формат.\n",
    "    \n",
    "    \n",
    "- `Compressed Sparse Row/Column storage` (`CSR/CSC`) - разберём на примере `CSR`. Хранятся три массива: `values`, `indptr` и `indices`. В массиве `values` хранятся все ненулевые элементы матрицы, упорядоченные лексикографически по паре (строка, столбец); `indptr[i]` - индекс начала `i`-й строки, `indices[indptr[i]:indptr[i+1]-1]` - номера столбцов соответствующих элементов.\n",
    "\n",
    "    $\\color{green}{\\oplus}$ быстрое выполнение арифметических операций,\n",
    "    \n",
    "    $\\color{green}{\\oplus}$ быстрый доступ к строкам для `CSR` и к столбцам для `CSC`,\n",
    "    \n",
    "    $\\color{red}{\\ominus}$ очень медленный доступ к столбцам для `CSR` и к строкам для `CSC`,\n",
    "    \n",
    "    $\\color{red}{\\ominus}$ медленное добавление/удаление элементов.\n",
    "  \n",
    "\n",
    "Главный вывод - не надо один и тот же формат использовать для разных целей!\n",
    "\n",
    "Вот здесь http://docs.scipy.org/doc/scipy/reference/sparse.html можно посмотреть, как эти возможности реализованы в библиотеке `scipy`.\n",
    "\n",
    "Вот здесь https://www.cise.ufl.edu/research/sparse/matrices/index.html выложено много разреженных матриц из разнообразных приложений. Что особенно приятно, сайт предоставляет удобный клиент для скачивания, в котором доступен предпросмотр и данные о том, являются ли матрицы симметричными или положительно определёнными."
   ]
  },
  {
   "cell_type": "markdown",
   "metadata": {},
   "source": [
    "**Задание 3.0** Загрузите файл `sparse_matrix1.mtx`"
   ]
  },
  {
   "cell_type": "code",
   "execution_count": null,
   "metadata": {
    "collapsed": true
   },
   "outputs": [],
   "source": [
    "import scipy.io as sio"
   ]
  },
  {
   "cell_type": "code",
   "execution_count": null,
   "metadata": {
    "collapsed": true
   },
   "outputs": [],
   "source": [
    "A = sio.mmread(r'...\\sparse_matrix1.mtx') # Please type right folder name! "
   ]
  },
  {
   "cell_type": "markdown",
   "metadata": {},
   "source": [
    "С помощью следующей функции можно посмотреть, как расположены ненулевые элементы матрицы:"
   ]
  },
  {
   "cell_type": "code",
   "execution_count": null,
   "metadata": {
    "collapsed": true
   },
   "outputs": [],
   "source": [
    "plt.spy(A, marker='.', markersize=0.4)"
   ]
  },
  {
   "cell_type": "markdown",
   "metadata": {},
   "source": [
    "В каком из пяти форматов хранится матрица? Для ответа на этот вопрос воспользуйтесь функцию `type`.\n",
    "\n",
    "Сколько в ней ненулевых элементов?"
   ]
  },
  {
   "cell_type": "code",
   "execution_count": null,
   "metadata": {
    "collapsed": true
   },
   "outputs": [],
   "source": []
  },
  {
   "cell_type": "markdown",
   "metadata": {},
   "source": [
    "Посмотрим, сколько времени занимает преобразование между разными форматами."
   ]
  },
  {
   "cell_type": "code",
   "execution_count": 5,
   "metadata": {
    "collapsed": false
   },
   "outputs": [
    {
     "data": {
      "text/html": [
       "<div>\n",
       "<table border=\"1\" class=\"dataframe\">\n",
       "  <thead>\n",
       "    <tr style=\"text-align: right;\">\n",
       "      <th></th>\n",
       "      <th>COO</th>\n",
       "      <th>DOK</th>\n",
       "      <th>LIL</th>\n",
       "      <th>CSR</th>\n",
       "      <th>CSC</th>\n",
       "    </tr>\n",
       "  </thead>\n",
       "  <tbody>\n",
       "    <tr>\n",
       "      <th>COO</th>\n",
       "      <td>NaN</td>\n",
       "      <td>0.064994</td>\n",
       "      <td>0.017649</td>\n",
       "      <td>0.000432</td>\n",
       "      <td>0.000536</td>\n",
       "    </tr>\n",
       "    <tr>\n",
       "      <th>DOK</th>\n",
       "      <td>0.104156</td>\n",
       "      <td>NaN</td>\n",
       "      <td>0.155717</td>\n",
       "      <td>0.103632</td>\n",
       "      <td>0.106420</td>\n",
       "    </tr>\n",
       "    <tr>\n",
       "      <th>LIL</th>\n",
       "      <td>0.014274</td>\n",
       "      <td>0.081863</td>\n",
       "      <td>NaN</td>\n",
       "      <td>0.014238</td>\n",
       "      <td>0.014916</td>\n",
       "    </tr>\n",
       "    <tr>\n",
       "      <th>CSR</th>\n",
       "      <td>0.000810</td>\n",
       "      <td>0.067233</td>\n",
       "      <td>0.013615</td>\n",
       "      <td>NaN</td>\n",
       "      <td>0.000494</td>\n",
       "    </tr>\n",
       "    <tr>\n",
       "      <th>CSC</th>\n",
       "      <td>0.000709</td>\n",
       "      <td>0.070901</td>\n",
       "      <td>0.015557</td>\n",
       "      <td>0.000509</td>\n",
       "      <td>NaN</td>\n",
       "    </tr>\n",
       "  </tbody>\n",
       "</table>\n",
       "</div>"
      ],
      "text/plain": [
       "          COO       DOK       LIL       CSR       CSC\n",
       "COO       NaN  0.064994  0.017649  0.000432  0.000536\n",
       "DOK  0.104156       NaN  0.155717  0.103632  0.106420\n",
       "LIL  0.014274  0.081863       NaN  0.014238  0.014916\n",
       "CSR  0.000810  0.067233  0.013615       NaN  0.000494\n",
       "CSC  0.000709  0.070901  0.015557  0.000509       NaN"
      ]
     },
     "execution_count": 5,
     "metadata": {},
     "output_type": "execute_result"
    }
   ],
   "source": [
    "import pandas as pd\n",
    "import timeit\n",
    "\n",
    "A_dok = A.todok()\n",
    "A_lil = A.tolil()\n",
    "A_csc = A.tocsc()\n",
    "A_csr = A.tocsr()\n",
    "\n",
    "conversion_times = pd.DataFrame(\n",
    "    index=['COO', 'DOK', 'LIL', 'CSR', 'CSC'],\n",
    "    columns=['COO', 'DOK', 'LIL', 'CSR', 'CSC'],\n",
    "    data={\n",
    "        'COO': [\n",
    "            np.nan,\n",
    "            timeit.timeit('A.todok()', 'from __main__ import A', number=100) / 100,\n",
    "            timeit.timeit('A.tolil()', 'from __main__ import A', number=100) / 100,\n",
    "            timeit.timeit('A.tocsr()', 'from __main__ import A', number=100) / 100,\n",
    "            timeit.timeit('A.tocsc()', 'from __main__ import A', number=100) / 100,\n",
    "               ],\n",
    "        'DOK': [\n",
    "            timeit.timeit('A_dok.tocoo()', 'from __main__ import A_dok', number=100) / 100,\n",
    "            np.nan,\n",
    "            timeit.timeit('A_dok.tolil()', 'from __main__ import A_dok', number=100) / 100,\n",
    "            timeit.timeit('A_dok.tocsr()', 'from __main__ import A_dok', number=100) / 100,\n",
    "            timeit.timeit('A_dok.tocsc()', 'from __main__ import A_dok', number=100) / 100,\n",
    "               ],\n",
    "        'LIL': [\n",
    "            timeit.timeit('A_lil.tocoo()', 'from __main__ import A_lil', number=100) / 100,\n",
    "            timeit.timeit('A_lil.todok()', 'from __main__ import A_lil', number=100) / 100,\n",
    "            np.nan,\n",
    "            timeit.timeit('A_lil.tocsr()', 'from __main__ import A_lil', number=100) / 100,\n",
    "            timeit.timeit('A_lil.tocsc()', 'from __main__ import A_lil', number=100) / 100,\n",
    "               ],\n",
    "        'CSR': [\n",
    "            timeit.timeit('A_csr.tocoo()', 'from __main__ import A_csr', number=100) / 100,\n",
    "            timeit.timeit('A_csr.todok()', 'from __main__ import A_csr', number=100) / 100,\n",
    "            timeit.timeit('A_csr.tolil()', 'from __main__ import A_csr', number=100) / 100,\n",
    "            np.nan,\n",
    "            timeit.timeit('A_csr.tocsc()', 'from __main__ import A_csr', number=100) / 100,\n",
    "               ],\n",
    "        'CSC': [\n",
    "            timeit.timeit('A_csc.tocoo()', 'from __main__ import A_csc', number=100) / 100,\n",
    "            timeit.timeit('A_csc.todok()', 'from __main__ import A_csc', number=100) / 100,\n",
    "            timeit.timeit('A_csc.tolil()', 'from __main__ import A_csc', number=100) / 100,\n",
    "            timeit.timeit('A_csc.tocsr()', 'from __main__ import A_csc', number=100) / 100,\n",
    "            np.nan,\n",
    "               ],\n",
    "    }\n",
    "    )\n",
    "\n",
    "conversion_times.T"
   ]
  },
  {
   "cell_type": "markdown",
   "metadata": {},
   "source": [
    "Как вы можете убедиться, быстрее всего преобразования происходят между форматами `COO`, `CSR` и `CSC`, а хуже всего дела обстоят с форматом `DOK`: все преобразования из него занимают чудовищно много времени."
   ]
  },
  {
   "cell_type": "markdown",
   "metadata": {},
   "source": [
    "**Задание 3.1 (0,5 балла)** Почему преобразование из формата `LIL` в формат `CSR` занимает такую пропасть времени?\n",
    "\n",
    "----\n",
    "*Ваш ответ:*"
   ]
  },
  {
   "cell_type": "markdown",
   "metadata": {},
   "source": [
    "**Задание 3.2 (1 балл)** Торговая сеть предоставила вам данные о покупках своих клиентов, представляющие собою список из нескольких сотен тысяч чеков (списков покупок). Для того, чтобы определить, какие товары чаще покупают вместе, вы решили построить матрицу, строки и столбцы которой соответствуют различным товарам (предположим, что число различных товаров тоже измеряется сотнями тысяч), а в клетке с \"номером\" $(g_1, g_2)$ стоит число\n",
    "\n",
    "$\\log_2{\\frac{N\\cdot c(g_1 \\& g_2)}{c(g_1)c(g_2)}},$\n",
    "\n",
    "где $c(g_i)$ --- количество чеков, содержащих товар $g_i$, $c(g_1 \\& g_2)$ --- количество чеков, содержащих оба товара, $N$ --- общее число чеков. В каком формате вы будете создавать эту (очевидно разреженную) матрицу? Почему?"
   ]
  },
  {
   "cell_type": "markdown",
   "metadata": {},
   "source": [
    "----\n",
    "*Ваш ответ:*"
   ]
  },
  {
   "cell_type": "markdown",
   "metadata": {},
   "source": [
    "Напишите максимально эффективный код, создающий эту матрицу:"
   ]
  },
  {
   "cell_type": "code",
   "execution_count": null,
   "metadata": {
    "collapsed": true
   },
   "outputs": [],
   "source": [
    "def CreateMatrix(receipts):\n",
    "    # Your code here\n",
    "    \n",
    "    for receipt in receipts:\n",
    "        # Your code here"
   ]
  },
  {
   "cell_type": "markdown",
   "metadata": {},
   "source": [
    "**Задание 3.3 (1 балл)** В каком из форматов `LIL` и `COO` умножение на вектор происходит быстрее? Почему? Проведите эксперименты. Можете воспользоваться функцией `scipy.sparse.random` для создания случайных разреженных матриц.\n",
    "\n",
    "Насколько быстрее с аналогичной задачей будут справляться форматы `CSC` и `CSR`?"
   ]
  },
  {
   "cell_type": "markdown",
   "metadata": {
    "collapsed": true
   },
   "source": [
    "----\n",
    "*Ваш ответ:*"
   ]
  },
  {
   "cell_type": "markdown",
   "metadata": {},
   "source": [
    "## Часть 4. Итерационные методы"
   ]
  },
  {
   "cell_type": "markdown",
   "metadata": {},
   "source": [
    "В этом задании вам предлагается поработать с итеративными методами решения систем уравнений.\n",
    "\n",
    "Соответствующие функции реализованы в пакете `scipy.sparse.linalg` (http://docs.scipy.org/doc/scipy-0.14.0/reference/sparse.linalg.html). Пожалуйста, читайте документацию перед их применением!"
   ]
  },
  {
   "cell_type": "markdown",
   "metadata": {},
   "source": [
    "В этом задании вам предстоит поближе познакомиться с двумя итеративными методами:\n",
    "\n",
    "1. **(L)GMRES** (мы настоятельно рекомендуем использовать оптимизированную функцию `scipy.sparse.linalg.lgmres`, даже если вам нужен обыкновенный **GMRES**)\n",
    "\n",
    "2. **CG** (вызывается функцией `scipy.sparse.linalg.cg`)\n",
    "\n",
    "*Замечания*:\n",
    "1. Функции `scipy.sparse.linalg.lgmres` и `scipy.sparse.linalg.cs` устроены так, что могут решать уравнения только с векторной правой частью.\n",
    "2. Внимательно ознакомьтесь с параметрами (у функции `scipy.sparse.linalg.lgmres` их очень много) и обратите внимание на формат вывода функций.\n",
    "3. Вы можете захотеть выводить/сохранять что-нибудь после каждой итерации. Для этого существует параметр `callback`: это функция с сигнатурой `callback(xk)`, вызываемая на каждой итерации. Её аргумент `xk` - это текущее приближение $x_k$. Вот пример вызова функции `lgmres`, печатающей норму текущего приближения:"
   ]
  },
  {
   "cell_type": "code",
   "execution_count": null,
   "metadata": {
    "collapsed": true
   },
   "outputs": [],
   "source": [
    "x = spla.gmres(A, b, callback=lambda xk: print(sla.norm(xk))"
   ]
  },
  {
   "cell_type": "markdown",
   "metadata": {},
   "source": [
    "Если вы захотите что-нибудь сохранять по ходу дела, логичнее использовать для этого класс. Ниже приводим пример класса, считающего число итераций и выводящего (если указан флаг `disp`) номер каждой итерации на печать, а также запоминающего все промежуточные приближения (не делайте так для больших систем! вам может не хватить памяти):"
   ]
  },
  {
   "cell_type": "code",
   "execution_count": null,
   "metadata": {
    "collapsed": true
   },
   "outputs": [],
   "source": [
    "class iterative_counter(object):\n",
    "    def __init__(self, disp=True):\n",
    "        self._disp = disp\n",
    "        self.niter = 0\n",
    "        self.all_x = [] # Please discard this if you solve large systems!!!\n",
    "        \n",
    "    def __call__(self, xk=None):\n",
    "        self.niter += 1\n",
    "        self.all_x.append(xk) # Please discard this if you solve large systems!!!\n",
    "        if self._disp:\n",
    "            print('iter %3i' % (self.niter))\n",
    "            \n",
    "my_counter = gmres_counter() # We need to create an instance of the class\n",
    "\n",
    "x = spla.gmres(A, b, callback=my_counter)\n",
    "\n",
    "print(my_counter.niter) # Will print total number of iterations"
   ]
  },
  {
   "cell_type": "markdown",
   "metadata": {},
   "source": [
    "**Задание 4.1 (3 балла)** Довольно игр! Пора решать большие системы. Загрузите матрицу из файла `large_system.mtx` (она симметричная и положительно определённая) и сгенерируйте случайную правую часть. Решите систему с помощью функции `scipy.sparse.linalg.spsolve` (сильно оптимизированный \"точный\" решатель) и с помощью итеративных методов `LGMRES` и `CG`. Сравните скорость работы этих методов.\n",
    "\n",
    "Постарайтесь обогнать функцию `spsolve`, применяя предобуславливание с помощью одной итерации метода Якоби или с помощью неполного LU-разложения. Для ILU постарайтесь подобрать оптимальные значения коэффициентов `fill_factor` и `drop_tol`.\n",
    "\n",
    "*Замечание.* Если матрица-предобуславливатель $P$ не совсем уж тривиальная, не надо её обращать и умножать на исходную матрицу!\n",
    "\n",
    "В каждом из итеративных методов можно включить предобуславливание с помощью параметра `M`. В качестве этого параметра нужно передать либо матрицу $P^{-1}$, либо **линейный оператор**, осуществляющий умножение вектора на $P^{-1}$. По понятным причинам второе гораздо правильнее. Делается это следующим образом. Например, если вы хотите ввести предобуславливание с конкретной матрицей $P$ для решения системы $Ax = b$:"
   ]
  },
  {
   "cell_type": "code",
   "execution_count": null,
   "metadata": {
    "collapsed": true
   },
   "outputs": [],
   "source": [
    "M = spla.LinearOperator(A.shape, lambda x: spla.spsolve(P, x))\n",
    "\n",
    "x = spla.lgmres(A, b, M=M)"
   ]
  },
  {
   "cell_type": "markdown",
   "metadata": {
    "collapsed": true
   },
   "source": [
    "А вот как это работает для неполного LU-разложения:"
   ]
  },
  {
   "cell_type": "code",
   "execution_count": null,
   "metadata": {
    "collapsed": true
   },
   "outputs": [],
   "source": [
    "my_ILU = spla.spilu(A, '''Add your parameters here''')\n",
    "M = spla.LinearOperator(A.shape, lambda x: my_ILU.solve(x))\n",
    "\n",
    "x = spla.lgmres(A, b, M=M)"
   ]
  },
  {
   "cell_type": "markdown",
   "metadata": {
    "collapsed": true
   },
   "source": [
    "Обратите внимание, что `my_ILU` --- это не просто tuple из четырёх матриц (`spilu` делает разложение вида $P_1AP_2 = LU$, где $P_i$ --- матрицы перестановок). В самом деле, как вы уже, наверное, поняли, в мире больших размерностей иметь матрицу --- это зачастую бесполезное или даже вредное занятие. Гораздо ценнее уметь быстро решать систему с этой матрицей. Поэтому `my_ILU` --- это в первую очередь не разложение (впрочем, матрицы при желании тоже можно извлечь), а оптимизированный решатель `solve`."
   ]
  },
  {
   "cell_type": "code",
   "execution_count": null,
   "metadata": {
    "collapsed": true
   },
   "outputs": [],
   "source": [
    "# Your solution here"
   ]
  },
  {
   "cell_type": "markdown",
   "metadata": {},
   "source": [
    "## Часть 5. Матричные дифференцирования"
   ]
  },
  {
   "cell_type": "markdown",
   "metadata": {},
   "source": [
    "**Задача 5.1 (1 балл)** Пусть $f$ --- функция на множестве квадратных матриц $n\\times n$, а $g$ --- функция на множестве симметричных матриц $n\\times n$, совпадающая с $f$ на своей области определения. Докажите, что\n",
    "\n",
    "$$\\frac{\\partial g}{\\partial X} = \\frac{\\partial f}{\\partial X} + \\left(\\frac{\\partial f}{\\partial X}\\right)^T -\n",
    "\\mathrm{diag}\\left(\\frac{\\partial f}{\\partial x_{11}}, \\frac{\\partial f}{\\partial x_{22}},\\ldots,\n",
    "\\frac{\\partial f}{\\partial x_{nn}}\\right)$$"
   ]
  },
  {
   "cell_type": "markdown",
   "metadata": {},
   "source": [
    "**Задача 5.2 (0.5 балла)** Найдите производную\n",
    "\n",
    "$$\\frac{\\partial\\mathrm{tr}\\left(AX^2BX^{-T}\\right)}{\\partial X}$$"
   ]
  },
  {
   "cell_type": "markdown",
   "metadata": {},
   "source": [
    "**Задача 5.3 (0.5 балла)** Найдите производную\n",
    "\n",
    "$$\\frac{\\partial\\ln{\\det\\left(X^TAX\\right)}}{\\partial X}$$"
   ]
  },
  {
   "cell_type": "markdown",
   "metadata": {},
   "source": [
    "**Задача 5.4 (1 балл)** Допустим, что векторы $y_1,\\ldots,y_m$ выбраны из многомерного нормального распределения с неизвестными вектором средних $m$ и ковариационной матрицей $\\Sigma$. В этом задании вам нужно будет найти оценки максимального правдоподобия $\\hat{m}$ и $\\hat{\\Sigma}$.\n",
    "\n",
    "Напомним вкратце, что такое оценка максимального правдоподобия в случае непрерывного распределения. Пусть $p(x|\\theta_1,\\ldots,\\theta_k)$ --- функция плотности распределения с неизвестными нам параметрами $\\theta_1,\\ldots,\\theta_k$, а $y_1,\\ldots,y_m$ --- выборка из этого распределения. \\textit{Функцией правдоподобия} назовём произведение $L(y_1\\ldots,y_m|\\theta_1,\\ldots,\\theta_k) := \\prod_{j=1}^kp(y_j|\\theta_1,\\ldots,\\theta_k)$; грубо говоря, это произведение показывает, насколько правдоподобно появление данной выборки $y_1,\\ldots,y_m$ при данных значениях параметров. В качестве оценки максимального правдоподобия выбирают те значения параметров, при которых функция правдоподобия достигает максимума. При этом как правило удобнее максимизировать не саму функцию правдоподобия, а *логарифмическую функцию правдоподобия* $l(y_1\\ldots,y_m|\\theta_1,\\ldots,\\theta_k) = \\ln{L(y_1\\ldots,y_m|\\theta_1,\\ldots,\\theta_k)}$.\n",
    "\n",
    "*Подсказка*. Постарайтесь превратить $\\sum_i(x_i - m)^T\\Sigma^{-1}(x_i - m)$ в функцию от матрицы $X$, столбцами которой являются векторы $x_i$."
   ]
  }
 ],
 "metadata": {
  "kernelspec": {
   "display_name": "Python 2",
   "language": "python",
   "name": "python2"
  },
  "language_info": {
   "codemirror_mode": {
    "name": "ipython",
    "version": 2
   },
   "file_extension": ".py",
   "mimetype": "text/x-python",
   "name": "python",
   "nbconvert_exporter": "python",
   "pygments_lexer": "ipython2",
   "version": "2.7.6"
  }
 },
 "nbformat": 4,
 "nbformat_minor": 0
}
